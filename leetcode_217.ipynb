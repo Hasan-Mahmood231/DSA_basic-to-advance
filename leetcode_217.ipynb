{
 "cells": [
  {
   "cell_type": "code",
   "execution_count": 25,
   "id": "85dac2f9",
   "metadata": {},
   "outputs": [
    {
     "name": "stdout",
     "output_type": "stream",
     "text": [
      "not ok\n"
     ]
    }
   ],
   "source": [
    "# -- NO1\n",
    "\n",
    "nums = [2,3,4,2,4]\n",
    "a = nums[0]\n",
    "check = False\n",
    "for i in range(len(nums)-1):\n",
    "    if nums[i+1] == a:\n",
    "         check = True\n",
    "    else:\n",
    "        a+=1\n",
    "    \n",
    "\n",
    "if check is True:\n",
    "    print ('ok')\n",
    "else:\n",
    "    print('not ok')"
   ]
  },
  {
   "cell_type": "code",
   "execution_count": 29,
   "id": "34f9bff5",
   "metadata": {},
   "outputs": [
    {
     "name": "stdout",
     "output_type": "stream",
     "text": [
      "ok\n"
     ]
    }
   ],
   "source": [
    "\n",
    "num = [2,3,4,9,8]\n",
    "num.sort()\n",
    "a,b = 0,1\n",
    "check = 0\n",
    "for i in range(len(num)):\n",
    "    if a == b:\n",
    "        check = 1\n",
    "    b += 1\n",
    "    a = b\n",
    "\n",
    "if check == 1:\n",
    "    print(\"ok\")\n",
    "else: \n",
    "    print('notok')\n"
   ]
  },
  {
   "cell_type": "code",
   "execution_count": null,
   "id": "2faa3856",
   "metadata": {},
   "outputs": [],
   "source": []
  },
  {
   "cell_type": "code",
   "execution_count": null,
   "id": "579951ca",
   "metadata": {},
   "outputs": [],
   "source": []
  },
  {
   "cell_type": "code",
   "execution_count": null,
   "id": "79df641b",
   "metadata": {},
   "outputs": [],
   "source": []
  }
 ],
 "metadata": {
  "kernelspec": {
   "display_name": "base",
   "language": "python",
   "name": "python3"
  },
  "language_info": {
   "codemirror_mode": {
    "name": "ipython",
    "version": 3
   },
   "file_extension": ".py",
   "mimetype": "text/x-python",
   "name": "python",
   "nbconvert_exporter": "python",
   "pygments_lexer": "ipython3",
   "version": "3.13.5"
  }
 },
 "nbformat": 4,
 "nbformat_minor": 5
}
