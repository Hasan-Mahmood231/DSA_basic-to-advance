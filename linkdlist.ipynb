{
 "cells": [
  {
   "cell_type": "markdown",
   "id": "4aff9b18",
   "metadata": {},
   "source": [
    "## Linkdlist"
   ]
  },
  {
   "cell_type": "code",
   "execution_count": 22,
   "id": "0cf08a0c",
   "metadata": {},
   "outputs": [
    {
     "name": "stdout",
     "output_type": "stream",
     "text": [
      "23 89 1798 90 "
     ]
    }
   ],
   "source": [
    "class Node:\n",
    "    def __init__(self,data):\n",
    "        self.data = data\n",
    "        self.nxt = None\n",
    "\n",
    "class Sll:\n",
    "    def __init__(self):\n",
    "        self.head = None\n",
    "    def insert(self,n):\n",
    "        if self.head is None:\n",
    "            self.head = n\n",
    "        else:\n",
    "            b = self.head\n",
    "            while b.nxt is not None:\n",
    "                b = b.nxt\n",
    "            b.nxt = n\n",
    "\n",
    "    def travers(self):\n",
    "        if self.head is None:\n",
    "            print(f\"Single linkedlist is empty.\")\n",
    "        else:\n",
    "            a = self.head\n",
    "            while a is not None:\n",
    "                print(a.data,end=\" \")\n",
    "                a = a.nxt\n",
    "\n",
    "\n",
    "\n",
    "n = Node(23)    #create node -> (23|None)\n",
    "sll = Sll()\n",
    "sll.head = n    #sll.head = head = 23\n",
    "n2 = Node(89)   #create another node (89|None)\n",
    "n.nxt = n2      #Now the (23|None) -> (23|n2) connect to next node.\n",
    "n3 = Node(1798)\n",
    "n2.nxt = n3\n",
    "sll.insert(Node(90))\n",
    "sll.travers()\n"
   ]
  },
  {
   "cell_type": "code",
   "execution_count": null,
   "id": "6af79972",
   "metadata": {},
   "outputs": [],
   "source": []
  }
 ],
 "metadata": {
  "kernelspec": {
   "display_name": "base",
   "language": "python",
   "name": "python3"
  },
  "language_info": {
   "codemirror_mode": {
    "name": "ipython",
    "version": 3
   },
   "file_extension": ".py",
   "mimetype": "text/x-python",
   "name": "python",
   "nbconvert_exporter": "python",
   "pygments_lexer": "ipython3",
   "version": "3.13.5"
  }
 },
 "nbformat": 4,
 "nbformat_minor": 5
}
