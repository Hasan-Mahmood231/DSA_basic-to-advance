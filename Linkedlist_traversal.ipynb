{
 "cells": [
  {
   "cell_type": "code",
   "execution_count": 1,
   "id": "439fe9c2",
   "metadata": {},
   "outputs": [],
   "source": [
    "class Node():\n",
    "    def __init__(self,data):\n",
    "        self.data = data\n",
    "        self.next = None"
   ]
  },
  {
   "cell_type": "code",
   "execution_count": 17,
   "id": "fbe68b78",
   "metadata": {},
   "outputs": [],
   "source": [
    "#Now after nod create the linkendlist which is empy\n",
    "class Linkedlist():\n",
    "    def __init__(self):\n",
    "        self.head = None\n",
    "        self.tail = None\n",
    "\n",
    "    #Now write the code for append ele in last. \n",
    "    def append_last(self,data):\n",
    "        new_node = Node(data)\n",
    "        if self.head is None:\n",
    "            self.head = new_node\n",
    "            self.tail = new_node\n",
    "        else:\n",
    "            self.tail.next = new_node\n",
    "            self.tail = new_node\n",
    "    #deletion at beganing.\n",
    "    def deletion_beganing(self):\n",
    "        a = self.head\n",
    "        self.head = a.next\n",
    "        a.next = None\n",
    "\n",
    "    #deletion at last node.\n",
    "    def deletion_last(self):\n",
    "        prev = self.head\n",
    "        a = self.head.next\n",
    "        while a.next is not None:\n",
    "            a = a.next\n",
    "            prev = prev.next\n",
    "        prev.next =None\n",
    "\n",
    "    #DELETION at specific node.\n",
    "    def deletion_specific(self,position):\n",
    "        prev = self.head\n",
    "        a = self.head.next\n",
    "        for i in range(1,position-1):\n",
    "            a = a.next\n",
    "            prev = prev.next\n",
    "        prev.next = a.next\n",
    "        a.next = None\n",
    "\n",
    "\n",
    "    #Method of traversal where we traver the whole linkdlist\n",
    "    def traversal(self):\n",
    "        a = self.head\n",
    "        while a is not None:\n",
    "            print(a.data,end = ' -> ')\n",
    "            a = a.next\n",
    "     #Now by the STR method we can also print it just print the class obj so\n",
    "    def __str__(self):\n",
    "        a = self.head\n",
    "        result = ''\n",
    "        while a is not None:\n",
    "            result += str(a.data)\n",
    "            if a.next is not None:\n",
    "                result += ('->')\n",
    "            a = a.next\n",
    "        return result\n",
    "        \n",
    "\n",
    "    "
   ]
  },
  {
   "cell_type": "code",
   "execution_count": 22,
   "id": "6c79623c",
   "metadata": {},
   "outputs": [
    {
     "name": "stdout",
     "output_type": "stream",
     "text": [
      "20 -> 90 -> 40 -> "
     ]
    }
   ],
   "source": [
    "# now print the linkdllist\n",
    "node1 = Linkedlist()\n",
    "node1.append_last(10)\n",
    "node1.append_last(20)   \n",
    "node1.append_last(30)\n",
    "node1.append_last(90)\n",
    "node1.append_last(40)\n",
    "#call the function of node1 calss\n",
    "node1.deletion_beganing()\n",
    "# node1.deletion_last()\n",
    "node1.deletion_specific(2)\n",
    "node1.traversal()   #print same res\n",
    "# print(node1)      #print same res\n",
    "\n"
   ]
  },
  {
   "cell_type": "code",
   "execution_count": null,
   "id": "c606f8f0",
   "metadata": {},
   "outputs": [],
   "source": []
  }
 ],
 "metadata": {
  "kernelspec": {
   "display_name": "base",
   "language": "python",
   "name": "python3"
  },
  "language_info": {
   "codemirror_mode": {
    "name": "ipython",
    "version": 3
   },
   "file_extension": ".py",
   "mimetype": "text/x-python",
   "name": "python",
   "nbconvert_exporter": "python",
   "pygments_lexer": "ipython3",
   "version": "3.13.5"
  }
 },
 "nbformat": 4,
 "nbformat_minor": 5
}
