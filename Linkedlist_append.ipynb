{
 "cells": [
  {
   "cell_type": "markdown",
   "id": "e59880ec",
   "metadata": {},
   "source": [
    "## Linkedlist traversal."
   ]
  },
  {
   "cell_type": "code",
   "execution_count": 19,
   "id": "fc441620",
   "metadata": {},
   "outputs": [],
   "source": [
    "# take the values and make the node only.\n",
    "class Node():\n",
    "    def __init__(self,value):\n",
    "        self.value = value\n",
    "        self.next = None"
   ]
  },
  {
   "cell_type": "code",
   "execution_count": null,
   "id": "d4e4c9e1",
   "metadata": {},
   "outputs": [],
   "source": [
    "#Now after nod create the linkendlist which is empy\n",
    "class Linkedlist():\n",
    "    def __init__(self):\n",
    "        self.head = None\n",
    "        self.tail = None\n",
    "\n",
    "    #Now write the code for append ele in last. \n",
    "    def append_last(self,value):\n",
    "        new_node = Node(value)\n",
    "        if self.head is None:\n",
    "            self.head = new_node\n",
    "            self.tail = new_node\n",
    "        else:\n",
    "            self.tail.next = new_node\n",
    "            self.tail = new_node\n",
    "\n",
    "    "
   ]
  },
  {
   "cell_type": "code",
   "execution_count": null,
   "id": "ee901891",
   "metadata": {},
   "outputs": [
    {
     "name": "stdout",
     "output_type": "stream",
     "text": [
      "10\n"
     ]
    }
   ],
   "source": [
    "# now print the linkdllist\n",
    "node1 = Linkedlist()\n",
    "node1.append_last(10)\n",
    "node1.append_last(20)   \n",
    "node1.append_last(30)\n",
    "\n",
    "\n",
    "\n"
   ]
  },
  {
   "cell_type": "code",
   "execution_count": null,
   "id": "cae55fd2",
   "metadata": {},
   "outputs": [],
   "source": []
  }
 ],
 "metadata": {
  "kernelspec": {
   "display_name": "base",
   "language": "python",
   "name": "python3"
  },
  "language_info": {
   "codemirror_mode": {
    "name": "ipython",
    "version": 3
   },
   "file_extension": ".py",
   "mimetype": "text/x-python",
   "name": "python",
   "nbconvert_exporter": "python",
   "pygments_lexer": "ipython3",
   "version": "3.13.5"
  }
 },
 "nbformat": 4,
 "nbformat_minor": 5
}
