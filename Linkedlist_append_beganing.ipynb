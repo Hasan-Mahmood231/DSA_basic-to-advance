{
 "cells": [
  {
   "cell_type": "code",
   "execution_count": 2,
   "id": "2f24ca2c",
   "metadata": {},
   "outputs": [],
   "source": [
    "class Node():\n",
    "    def __init__(self,data):\n",
    "        self.data = data\n",
    "        self.next = None"
   ]
  },
  {
   "cell_type": "code",
   "execution_count": 3,
   "id": "9ab34ae0",
   "metadata": {},
   "outputs": [],
   "source": [
    "#Now after nod create the linkendlist which is empy\n",
    "class Linkedlist():\n",
    "    def __init__(self):\n",
    "        self.head = None\n",
    "        self.tail = None\n",
    "    #Now write the code for append ele in last. \n",
    "    def append_last(self,data):\n",
    "        new_node = Node(data)\n",
    "        if self.head is None:\n",
    "            self.head = new_node\n",
    "            self.tail = new_node\n",
    "        else:\n",
    "            self.tail.next = new_node\n",
    "            self.tail = new_node\n",
    "\n",
    "    #Method of traversal where we traver the whole linkdlist\n",
    "    def traversal(self):\n",
    "        a = self.head\n",
    "        while a is not None:\n",
    "            print(a.data,end = ' -> ')\n",
    "            a = a.next\n",
    "     #Now by the STR method we can also print it just print the class obj so\n",
    "    def __str__(self):\n",
    "        a = self.head\n",
    "        result = ''\n",
    "        while a is not None:\n",
    "            result += str(a.data)\n",
    "            if a.next is not None:\n",
    "                result += ('->')\n",
    "            a = a.next\n",
    "        return result\n",
    "        \n",
    "    #Now want to append it beganing.\n",
    "    def add_beganing(self,data):\n",
    "        new_node = Node(data)\n",
    "        if self.head is None:\n",
    "            self.head = new_node\n",
    "            self.tail = new_node\n",
    "        else:\n",
    "            new_node.next = self.head   # just assigne the next of new_node to head \n",
    "            self.head = new_node        # then first head point the old node we change it to new_node😊\n",
    "       \n",
    "    "
   ]
  },
  {
   "cell_type": "code",
   "execution_count": 4,
   "id": "b4e6e23c",
   "metadata": {},
   "outputs": [
    {
     "name": "stdout",
     "output_type": "stream",
     "text": [
      "32 -> 10 -> 20 -> 30 -> "
     ]
    }
   ],
   "source": [
    "# now print the linkdllist\n",
    "node1 = Linkedlist()\n",
    "node1.append_last(10)\n",
    "node1.append_last(20)   \n",
    "node1.append_last(30)\n",
    "#call the function of node1 calss\n",
    "node1.add_beganing(32)\n",
    "\n",
    "#print(node1.item)\n",
    "node1.traversal()   #print same res\n",
    "# print(node1)      #print same res\n",
    "\n"
   ]
  },
  {
   "cell_type": "code",
   "execution_count": null,
   "id": "42045309",
   "metadata": {},
   "outputs": [],
   "source": []
  },
  {
   "cell_type": "code",
   "execution_count": null,
   "id": "6db44c8a",
   "metadata": {},
   "outputs": [],
   "source": []
  }
 ],
 "metadata": {
  "kernelspec": {
   "display_name": "base",
   "language": "python",
   "name": "python3"
  },
  "language_info": {
   "codemirror_mode": {
    "name": "ipython",
    "version": 3
   },
   "file_extension": ".py",
   "mimetype": "text/x-python",
   "name": "python",
   "nbconvert_exporter": "python",
   "pygments_lexer": "ipython3",
   "version": "3.13.5"
  }
 },
 "nbformat": 4,
 "nbformat_minor": 5
}
