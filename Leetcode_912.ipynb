{
 "cells": [
  {
   "cell_type": "code",
   "execution_count": 19,
   "id": "ab191e54",
   "metadata": {},
   "outputs": [],
   "source": [
    "arr = [2,1,3,6,8,5]\n",
    "a = 0\n",
    "b = 1\n",
    "for i in range(len(arr)):\n",
    "    if arr[a] > arr[b]:\n",
    "        temp = arr[a]\n",
    "        arr[a] = arr[b]\n",
    "        arr[b] = temp\n",
    "        if len(arr) <b:\n",
    "            a = b\n",
    "            b = b+1\n",
    "    if len(arr) <b:\n",
    "            a = b\n",
    "            b = b+1\n"
   ]
  },
  {
   "cell_type": "code",
   "execution_count": 20,
   "id": "60d551e8",
   "metadata": {},
   "outputs": [
    {
     "name": "stdout",
     "output_type": "stream",
     "text": [
      "1 2 3 6 8 5 "
     ]
    }
   ],
   "source": [
    "for j in range(len(arr)):\n",
    "    print(arr[j],end = ' ')"
   ]
  },
  {
   "cell_type": "code",
   "execution_count": 21,
   "id": "ed668aeb",
   "metadata": {},
   "outputs": [
    {
     "name": "stdout",
     "output_type": "stream",
     "text": [
      "[1, 2, 3, 5, 6]\n"
     ]
    }
   ],
   "source": [
    "arr = [2, 1, 3, 6, 5]\n",
    "\n",
    "n = len(arr)\n",
    "for i in range(n):\n",
    "    for j in range(0, n - i - 1):\n",
    "        if arr[j] > arr[j + 1]:\n",
    "            arr[j], arr[j + 1] = arr[j + 1], arr[j]\n",
    "\n",
    "print(arr)  # [1, 2, 3, 5, 6]\n"
   ]
  },
  {
   "cell_type": "code",
   "execution_count": null,
   "id": "863913df",
   "metadata": {},
   "outputs": [],
   "source": []
  },
  {
   "cell_type": "code",
   "execution_count": null,
   "id": "1ee11b37",
   "metadata": {},
   "outputs": [],
   "source": []
  }
 ],
 "metadata": {
  "kernelspec": {
   "display_name": "base",
   "language": "python",
   "name": "python3"
  },
  "language_info": {
   "codemirror_mode": {
    "name": "ipython",
    "version": 3
   },
   "file_extension": ".py",
   "mimetype": "text/x-python",
   "name": "python",
   "nbconvert_exporter": "python",
   "pygments_lexer": "ipython3",
   "version": "3.13.5"
  }
 },
 "nbformat": 4,
 "nbformat_minor": 5
}
