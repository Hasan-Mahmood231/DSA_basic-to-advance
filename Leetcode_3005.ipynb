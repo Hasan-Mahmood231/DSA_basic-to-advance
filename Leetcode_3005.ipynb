{
 "cells": [
  {
   "cell_type": "code",
   "execution_count": null,
   "id": "e3bb8cff",
   "metadata": {},
   "outputs": [],
   "source": [
    "nums = {3,3,4,2,1}\n",
    "dist = []\n",
    "for i in range(len(nums)):\n",
    "    dist.add(nums[i])"
   ]
  },
  {
   "cell_type": "code",
   "execution_count": 22,
   "id": "45ab8775",
   "metadata": {},
   "outputs": [
    {
     "name": "stdout",
     "output_type": "stream",
     "text": [
      "4\n"
     ]
    }
   ],
   "source": [
    "\n",
    "def maxFrequencyElements(nums):\n",
    "        dist = []\n",
    "        for i in nums:\n",
    "            dist.append(i)\n",
    "        return len(dist)\n",
    "\n",
    "print(maxFrequencyElements({1,2,2,3,1,4}))\n",
    "        "
   ]
  },
  {
   "cell_type": "markdown",
   "id": "c1988013",
   "metadata": {},
   "source": [
    "## correct version of code."
   ]
  },
  {
   "cell_type": "code",
   "execution_count": null,
   "id": "3ff6a25b",
   "metadata": {},
   "outputs": [
    {
     "name": "stdout",
     "output_type": "stream",
     "text": [
      "the len of function is 4\n"
     ]
    },
    {
     "data": {
      "text/plain": [
       "4"
      ]
     },
     "execution_count": 18,
     "metadata": {},
     "output_type": "execute_result"
    }
   ],
   "source": [
    "nums = {3,3,4,2,1}\n",
    "dist = []\n",
    "for x in nums:        # iterate directly over set\n",
    "    dist.append(x)\n",
    "len(dist)"
   ]
  }
 ],
 "metadata": {
  "kernelspec": {
   "display_name": "base",
   "language": "python",
   "name": "python3"
  },
  "language_info": {
   "codemirror_mode": {
    "name": "ipython",
    "version": 3
   },
   "file_extension": ".py",
   "mimetype": "text/x-python",
   "name": "python",
   "nbconvert_exporter": "python",
   "pygments_lexer": "ipython3",
   "version": "3.13.5"
  }
 },
 "nbformat": 4,
 "nbformat_minor": 5
}
