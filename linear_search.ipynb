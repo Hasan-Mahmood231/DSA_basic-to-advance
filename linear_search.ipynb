{
 "cells": [
  {
   "cell_type": "code",
   "execution_count": 31,
   "id": "a5740419",
   "metadata": {},
   "outputs": [],
   "source": [
    "import array "
   ]
  },
  {
   "cell_type": "code",
   "execution_count": 32,
   "id": "fc1f9a04",
   "metadata": {},
   "outputs": [
    {
     "data": {
      "text/plain": [
       "array('i', [23, 44, 12, 90, 78])"
      ]
     },
     "execution_count": 32,
     "metadata": {},
     "output_type": "execute_result"
    }
   ],
   "source": [
    "my_array = array.array('i',[23,44,12,90,78])\n",
    "my_array"
   ]
  },
  {
   "cell_type": "code",
   "execution_count": 33,
   "id": "066ecce8",
   "metadata": {},
   "outputs": [],
   "source": [
    "def linear_search(arr,num):\n",
    "    for i in range(len(my_array)):\n",
    "        if my_array[i] == num:\n",
    "            print(f\"The number located it {i} index\")\n",
    "            \n",
    "    return -1\n"
   ]
  },
  {
   "cell_type": "code",
   "execution_count": 34,
   "id": "9277978a",
   "metadata": {},
   "outputs": [
    {
     "name": "stdout",
     "output_type": "stream",
     "text": [
      "The number located it 2 index\n"
     ]
    },
    {
     "data": {
      "text/plain": [
       "-1"
      ]
     },
     "execution_count": 34,
     "metadata": {},
     "output_type": "execute_result"
    }
   ],
   "source": [
    "res_number = linear_search(my_array,12)\n",
    "res_number"
   ]
  },
  {
   "cell_type": "code",
   "execution_count": 35,
   "id": "7fb8fa9c",
   "metadata": {},
   "outputs": [
    {
     "data": {
      "text/plain": [
       "array('i', [23, 44, 12, 90, 78, 23])"
      ]
     },
     "execution_count": 35,
     "metadata": {},
     "output_type": "execute_result"
    }
   ],
   "source": [
    "# def append(ap_num,arr):\n",
    "#     arr.append(ap_num)\n",
    "my_array.append(23)\n",
    "my_array\n"
   ]
  },
  {
   "cell_type": "markdown",
   "id": "b6f5722e",
   "metadata": {},
   "source": [
    "- Pop method remove at specific index."
   ]
  },
  {
   "cell_type": "code",
   "execution_count": 36,
   "id": "404f197a",
   "metadata": {},
   "outputs": [
    {
     "data": {
      "text/plain": [
       "array('i', [23, 44, 12, 90, 78])"
      ]
     },
     "execution_count": 36,
     "metadata": {},
     "output_type": "execute_result"
    }
   ],
   "source": [
    "my_array.pop(-1)\n",
    "my_array"
   ]
  },
  {
   "cell_type": "markdown",
   "id": "84525feb",
   "metadata": {},
   "source": [
    "# Input from user in array"
   ]
  },
  {
   "cell_type": "code",
   "execution_count": 37,
   "id": "07166681",
   "metadata": {},
   "outputs": [],
   "source": [
    "my_array1 = array.array('i',[])\n",
    "n = 12\n",
    "for i in range(n):\n",
    "    x = int(input())\n",
    "    my_array1.append(x)\n",
    "\n"
   ]
  },
  {
   "cell_type": "code",
   "execution_count": 38,
   "id": "bc9185fe",
   "metadata": {},
   "outputs": [
    {
     "data": {
      "text/plain": [
       "6.0"
      ]
     },
     "execution_count": 38,
     "metadata": {},
     "output_type": "execute_result"
    }
   ],
   "source": [
    "len(my_array1)/my_array1[0]"
   ]
  },
  {
   "cell_type": "code",
   "execution_count": 39,
   "id": "1271b060",
   "metadata": {},
   "outputs": [
    {
     "data": {
      "text/plain": [
       "array('i', [2, 2, 2, 2, 2, 2, 2, 2, 2, 22, 2, 2])"
      ]
     },
     "execution_count": 39,
     "metadata": {},
     "output_type": "execute_result"
    }
   ],
   "source": [
    "my_array1"
   ]
  },
  {
   "cell_type": "code",
   "execution_count": 40,
   "id": "18d4efd6",
   "metadata": {},
   "outputs": [],
   "source": [
    "my_array1.insert(1,890) #insert it specific index."
   ]
  },
  {
   "cell_type": "code",
   "execution_count": 41,
   "id": "2d971f53",
   "metadata": {},
   "outputs": [
    {
     "data": {
      "text/plain": [
       "array('i', [2, 890, 2, 2, 2, 2, 2, 2, 2, 2, 22, 2, 2])"
      ]
     },
     "execution_count": 41,
     "metadata": {},
     "output_type": "execute_result"
    }
   ],
   "source": [
    "my_array1"
   ]
  },
  {
   "cell_type": "code",
   "execution_count": 42,
   "id": "2cf1c6c8",
   "metadata": {},
   "outputs": [
    {
     "data": {
      "text/plain": [
       "890"
      ]
     },
     "execution_count": 42,
     "metadata": {},
     "output_type": "execute_result"
    }
   ],
   "source": [
    "max_num = 0\n",
    "for i in range(len(my_array1)):\n",
    "    if my_array1[i] > max_num:\n",
    "        max_num = my_array1[i]\n",
    "\n",
    "max_num"
   ]
  },
  {
   "cell_type": "markdown",
   "id": "79dfb3de",
   "metadata": {},
   "source": [
    "- Sum of elemnts in array."
   ]
  },
  {
   "cell_type": "code",
   "execution_count": 43,
   "id": "13922644",
   "metadata": {},
   "outputs": [
    {
     "data": {
      "text/plain": [
       "934"
      ]
     },
     "execution_count": 43,
     "metadata": {},
     "output_type": "execute_result"
    }
   ],
   "source": [
    "sum_arr = 0\n",
    "for i in range(len(my_array1)):\n",
    "    sum_arr += my_array1[i]\n",
    "\n",
    "sum_arr "
   ]
  },
  {
   "cell_type": "markdown",
   "id": "04a60256",
   "metadata": {},
   "source": [
    "## Leetcode Question #1"
   ]
  },
  {
   "cell_type": "code",
<<<<<<< HEAD
   "execution_count": null,
   "id": "3ba00e90",
   "metadata": {},
   "outputs": [],
   "source": []
=======
   "execution_count": 49,
   "id": "3ba00e90",
   "metadata": {},
   "outputs": [],
   "source": [
    "my_array2 = array.array('i',[2,3,4,5,6,8])\n",
    "target = 10"
   ]
>>>>>>> 180ad373454f4ec4f226b33b5c1b3ee879d6c587
  },
  {
   "cell_type": "code",
   "execution_count": 50,
   "id": "7309696a",
   "metadata": {},
   "outputs": [
    {
     "name": "stdout",
     "output_type": "stream",
     "text": [
      "0 5\n"
     ]
    }
   ],
   "source": [
    "a = 0\n",
    "b = 1\n",
    "for i in range(len(my_array2)):\n",
    "    if my_array2[a] + my_array2[b] == target:\n",
    "        print(a,b)\n",
    "        break\n",
    "    else:\n",
    "        b+=1\n",
    "        if b == len(my_array2):\n",
    "            a += 1\n",
    "            b = a+1    "
   ]
  },
  {
   "cell_type": "code",
   "execution_count": null,
   "id": "35495778",
   "metadata": {},
   "outputs": [],
   "source": []
  }
 ],
 "metadata": {
  "kernelspec": {
   "display_name": "base",
   "language": "python",
   "name": "python3"
  },
  "language_info": {
   "codemirror_mode": {
    "name": "ipython",
    "version": 3
   },
   "file_extension": ".py",
   "mimetype": "text/x-python",
   "name": "python",
   "nbconvert_exporter": "python",
   "pygments_lexer": "ipython3",
   "version": "3.13.5"
  }
 },
 "nbformat": 4,
 "nbformat_minor": 5
}
