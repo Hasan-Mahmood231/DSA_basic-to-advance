{
 "cells": [
  {
   "cell_type": "code",
   "execution_count": 1,
   "id": "e93112c7",
   "metadata": {},
   "outputs": [],
   "source": [
    "class Node():\n",
    "    def __init__(self,data):\n",
    "        self.data = data\n",
    "        self.next = None"
   ]
  },
  {
   "cell_type": "code",
   "execution_count": null,
   "id": "21e78e81",
   "metadata": {},
   "outputs": [],
   "source": [
    "#Now after nod create the linkendlist which is empy\n",
    "class Linkedlist():\n",
    "    def __init__(self):\n",
    "        self.head = None\n",
    "        self.tail = None\n",
    "    #Now write the code for append ele in last. \n",
    "    def append_last(self,data):\n",
    "        new_node = Node(data)\n",
    "        if self.head is None:\n",
    "            self.head = new_node\n",
    "            self.tail = new_node\n",
    "        else:\n",
    "            self.tail.next = new_node\n",
    "            self.tail = new_node\n",
    "\n",
    "    #Method of traversal where we traver the whole linkdlist\n",
    "    def traversal(self):\n",
    "        a = self.head\n",
    "        while a is not None:\n",
    "            print(a.data,end = ' -> ')\n",
    "            a = a.next\n",
    "     #Now by the STR method we can also print it just print the class obj so\n",
    "    def __str__(self):\n",
    "        a = self.head\n",
    "        result = ''\n",
    "        while a is not None:\n",
    "            result += str(a.data)\n",
    "            if a.next is not None:\n",
    "                result += ('->')\n",
    "            a = a.next\n",
    "        return result\n",
    "        \n",
    "    #Now want to append it beganing.\n",
    "    def add_beganing(self,data):\n",
    "        new_node = Node(data)\n",
    "        if self.head is None:\n",
    "            self.head = new_node\n",
    "            self.tail = new_node\n",
    "        else:\n",
    "            new_node.next = self.head   # just assigne the next of new_node to head \n",
    "            self.head = new_node        # then first head point the old node we change it to new_node😊\n",
    "       \n",
    "\n",
    "\n",
    "    #Now want to add it specific index\n",
    "    def add_specific_idx(self,data,position):\n",
    "        new_node = Node(data)\n",
    "        if self.head is None:\n",
    "            self.head = new_node\n",
    "            if self.head.next is None:\n",
    "                self.head.next = new_node\n",
    "        a = self.head\n",
    "        for i in range(1,position-1):\n",
    "            a = a.next\n",
    "        new_node.next = a.next\n",
    "        a.next = new_node\n",
    "        \n",
    "\n",
    "\n",
    "    "
   ]
  },
  {
   "cell_type": "code",
   "execution_count": 15,
   "id": "bdc41e09",
   "metadata": {},
   "outputs": [
    {
     "name": "stdout",
     "output_type": "stream",
     "text": [
      "32 -> 89 -> 10 -> 20 -> 30 -> "
     ]
    }
   ],
   "source": [
    "# now print the linkdllist\n",
    "node1 = Linkedlist()\n",
    "node1.append_last(10)\n",
    "node1.append_last(20)   \n",
    "node1.append_last(30)\n",
    "#call the function of node1 calss\n",
    "node1.add_beganing(32)\n",
    "\n",
    "#print(node1.item)\n",
    "# print(node1)      #print same res\n",
    "node1.add_specific_idx(89,2)\n",
    "node1.traversal()   #print same res\n",
    "\n"
   ]
  },
  {
   "cell_type": "code",
   "execution_count": null,
   "id": "d4dad40e",
   "metadata": {},
   "outputs": [],
   "source": []
  }
 ],
 "metadata": {
  "kernelspec": {
   "display_name": "base",
   "language": "python",
   "name": "python3"
  },
  "language_info": {
   "codemirror_mode": {
    "name": "ipython",
    "version": 3
   },
   "file_extension": ".py",
   "mimetype": "text/x-python",
   "name": "python",
   "nbconvert_exporter": "python",
   "pygments_lexer": "ipython3",
   "version": "3.13.5"
  }
 },
 "nbformat": 4,
 "nbformat_minor": 5
}
