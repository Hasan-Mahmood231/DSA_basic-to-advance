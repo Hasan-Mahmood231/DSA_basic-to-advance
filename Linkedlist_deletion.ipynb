{
 "cells": [
  {
   "cell_type": "markdown",
   "id": "4c73f004",
   "metadata": {},
   "source": [
    "## Linkedlist Deletion:"
   ]
  },
  {
   "cell_type": "markdown",
   "id": "42041972",
   "metadata": {},
   "source": []
  }
 ],
 "metadata": {
  "language_info": {
   "name": "python"
  }
 },
 "nbformat": 4,
 "nbformat_minor": 5
}
