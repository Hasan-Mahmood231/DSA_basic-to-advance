{
 "cells": [
  {
   "cell_type": "markdown",
   "id": "b43f7585",
   "metadata": {},
   "source": [
    "An array is monotonic if it is either monotone increasing or monotone decreasing.\n",
    "\n",
    "An array nums is monotone increasing if for all i <= j, nums[i] <= nums[j]. An array nums is monotone decreasing if for all i <= j, nums[i] >= nums[j].\n",
    "\n",
    "Given an integer array nums, return true if the given array is monotonic, or false otherwise.\n"
   ]
  },
  {
   "cell_type": "code",
   "execution_count": 9,
   "id": "4137c150",
   "metadata": {},
   "outputs": [],
   "source": [
    "\n",
    "def monotonic(nums):\n",
    "    increasing,decreasing = True,True\n",
    "    for i in range(len(nums)-1):\n",
    "        if nums[i] < nums[i+1]:\n",
    "            decreasing = False\n",
    "        if nums[i] > nums[i+1]:\n",
    "            increasing = False\n",
    "    return increasing or decreasing\n",
    "            \n"
   ]
  },
  {
   "cell_type": "code",
   "execution_count": 10,
   "id": "da0670a2",
   "metadata": {},
   "outputs": [
    {
     "name": "stdout",
     "output_type": "stream",
     "text": [
      "True\n"
     ]
    }
   ],
   "source": [
    "x = [2,2,4,5]\n",
    "print(monotonic(x))"
   ]
  },
  {
   "cell_type": "code",
   "execution_count": null,
   "id": "5439a1b4",
   "metadata": {},
   "outputs": [],
   "source": []
  }
 ],
 "metadata": {
  "kernelspec": {
   "display_name": "base",
   "language": "python",
   "name": "python3"
  },
  "language_info": {
   "codemirror_mode": {
    "name": "ipython",
    "version": 3
   },
   "file_extension": ".py",
   "mimetype": "text/x-python",
   "name": "python",
   "nbconvert_exporter": "python",
   "pygments_lexer": "ipython3",
   "version": "3.13.5"
  }
 },
 "nbformat": 4,
 "nbformat_minor": 5
}
